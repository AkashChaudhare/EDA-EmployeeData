{
  "nbformat": 4,
  "nbformat_minor": 0,
  "metadata": {
    "colab": {
      "name": "GDTC.ipynb",
      "provenance": [],
      "collapsed_sections": []
    },
    "kernelspec": {
      "name": "python3",
      "display_name": "Python 3"
    },
    "language_info": {
      "name": "python"
    }
  },
  "cells": [
    {
      "cell_type": "code",
      "execution_count": null,
      "metadata": {
        "id": "OrractNCsxfP"
      },
      "outputs": [],
      "source": [
        "import pandas as pd\n",
        "import numpy as np\n",
        "import seaborn as sns\n",
        "import matplotlib.pyplot as plt\n",
        "\n",
        "%matplotlib inline"
      ]
    },
    {
      "cell_type": "code",
      "source": [
        "df_emp=pd.read_csv('https://raw.githubusercontent.com/AkashChaudhare/EDA-EmployeeData/main/Data/employee_data.csv')\n",
        "df_ins=pd.read_csv('https://raw.githubusercontent.com/AkashChaudhare/EDA-EmployeeData/main/Data/insurance_data.csv')\n",
        "df_ven=pd.read_csv('https://raw.githubusercontent.com/AkashChaudhare/EDA-EmployeeData/main/Data/vendor_data.csv')"
      ],
      "metadata": {
        "id": "F8j72iC8vDKk"
      },
      "execution_count": null,
      "outputs": []
    },
    {
      "cell_type": "code",
      "source": [
        "df_emp.head()"
      ],
      "metadata": {
        "colab": {
          "base_uri": "https://localhost:8080/",
          "height": 250
        },
        "id": "FbtvNLrKvDDJ",
        "outputId": "90c47784-ba3b-4b58-c562-0ccf21cf0a07"
      },
      "execution_count": null,
      "outputs": [
        {
          "output_type": "execute_result",
          "data": {
            "text/plain": [
              "     AGENT_ID      AGENT_NAME DATE_OF_JOINING          ADDRESS_LINE1  \\\n",
              "0  AGENT00001       Ray Johns      1993-06-05       1402 Maggies Way   \n",
              "1  AGENT00002   Angelo Borjon      2005-12-27         414 Tanya Pass   \n",
              "2  AGENT00003  Candy Spellman      2003-09-02    606 National Street   \n",
              "3  AGENT00004      Mary Smith      2004-09-23  235 Hugh Thomas Drive   \n",
              "4  AGENT00005    Mildred Diaz      2011-06-21  3426 Broadview Street   \n",
              "\n",
              "  ADDRESS_LINE2              CITY STATE  POSTAL_CODE  EMP_ROUTING_NUMBER  \\\n",
              "0           NaN  Waterbury Center    VT         5677            34584958   \n",
              "1           NaN       Panama City    FL        32404           107363763   \n",
              "2          #306      Fayetteville    AR        72701            81744097   \n",
              "3           NaN       Panama City    FL        32404            67563771   \n",
              "4           NaN        Montgomery    AL        36110           114951317   \n",
              "\n",
              "      EMP_ACCT_NUMBER  \n",
              "0  HKUN51252328472585  \n",
              "1  OPIS19290040088204  \n",
              "2  YSCJ67489688482590  \n",
              "3  ZANG21285355574581  \n",
              "4  DZFS82244494451134  "
            ],
            "text/html": [
              "\n",
              "  <div id=\"df-c05f266e-592f-4cb2-98b1-416c3f235c67\">\n",
              "    <div class=\"colab-df-container\">\n",
              "      <div>\n",
              "<style scoped>\n",
              "    .dataframe tbody tr th:only-of-type {\n",
              "        vertical-align: middle;\n",
              "    }\n",
              "\n",
              "    .dataframe tbody tr th {\n",
              "        vertical-align: top;\n",
              "    }\n",
              "\n",
              "    .dataframe thead th {\n",
              "        text-align: right;\n",
              "    }\n",
              "</style>\n",
              "<table border=\"1\" class=\"dataframe\">\n",
              "  <thead>\n",
              "    <tr style=\"text-align: right;\">\n",
              "      <th></th>\n",
              "      <th>AGENT_ID</th>\n",
              "      <th>AGENT_NAME</th>\n",
              "      <th>DATE_OF_JOINING</th>\n",
              "      <th>ADDRESS_LINE1</th>\n",
              "      <th>ADDRESS_LINE2</th>\n",
              "      <th>CITY</th>\n",
              "      <th>STATE</th>\n",
              "      <th>POSTAL_CODE</th>\n",
              "      <th>EMP_ROUTING_NUMBER</th>\n",
              "      <th>EMP_ACCT_NUMBER</th>\n",
              "    </tr>\n",
              "  </thead>\n",
              "  <tbody>\n",
              "    <tr>\n",
              "      <th>0</th>\n",
              "      <td>AGENT00001</td>\n",
              "      <td>Ray Johns</td>\n",
              "      <td>1993-06-05</td>\n",
              "      <td>1402 Maggies Way</td>\n",
              "      <td>NaN</td>\n",
              "      <td>Waterbury Center</td>\n",
              "      <td>VT</td>\n",
              "      <td>5677</td>\n",
              "      <td>34584958</td>\n",
              "      <td>HKUN51252328472585</td>\n",
              "    </tr>\n",
              "    <tr>\n",
              "      <th>1</th>\n",
              "      <td>AGENT00002</td>\n",
              "      <td>Angelo Borjon</td>\n",
              "      <td>2005-12-27</td>\n",
              "      <td>414 Tanya Pass</td>\n",
              "      <td>NaN</td>\n",
              "      <td>Panama City</td>\n",
              "      <td>FL</td>\n",
              "      <td>32404</td>\n",
              "      <td>107363763</td>\n",
              "      <td>OPIS19290040088204</td>\n",
              "    </tr>\n",
              "    <tr>\n",
              "      <th>2</th>\n",
              "      <td>AGENT00003</td>\n",
              "      <td>Candy Spellman</td>\n",
              "      <td>2003-09-02</td>\n",
              "      <td>606 National Street</td>\n",
              "      <td>#306</td>\n",
              "      <td>Fayetteville</td>\n",
              "      <td>AR</td>\n",
              "      <td>72701</td>\n",
              "      <td>81744097</td>\n",
              "      <td>YSCJ67489688482590</td>\n",
              "    </tr>\n",
              "    <tr>\n",
              "      <th>3</th>\n",
              "      <td>AGENT00004</td>\n",
              "      <td>Mary Smith</td>\n",
              "      <td>2004-09-23</td>\n",
              "      <td>235 Hugh Thomas Drive</td>\n",
              "      <td>NaN</td>\n",
              "      <td>Panama City</td>\n",
              "      <td>FL</td>\n",
              "      <td>32404</td>\n",
              "      <td>67563771</td>\n",
              "      <td>ZANG21285355574581</td>\n",
              "    </tr>\n",
              "    <tr>\n",
              "      <th>4</th>\n",
              "      <td>AGENT00005</td>\n",
              "      <td>Mildred Diaz</td>\n",
              "      <td>2011-06-21</td>\n",
              "      <td>3426 Broadview Street</td>\n",
              "      <td>NaN</td>\n",
              "      <td>Montgomery</td>\n",
              "      <td>AL</td>\n",
              "      <td>36110</td>\n",
              "      <td>114951317</td>\n",
              "      <td>DZFS82244494451134</td>\n",
              "    </tr>\n",
              "  </tbody>\n",
              "</table>\n",
              "</div>\n",
              "      <button class=\"colab-df-convert\" onclick=\"convertToInteractive('df-c05f266e-592f-4cb2-98b1-416c3f235c67')\"\n",
              "              title=\"Convert this dataframe to an interactive table.\"\n",
              "              style=\"display:none;\">\n",
              "        \n",
              "  <svg xmlns=\"http://www.w3.org/2000/svg\" height=\"24px\"viewBox=\"0 0 24 24\"\n",
              "       width=\"24px\">\n",
              "    <path d=\"M0 0h24v24H0V0z\" fill=\"none\"/>\n",
              "    <path d=\"M18.56 5.44l.94 2.06.94-2.06 2.06-.94-2.06-.94-.94-2.06-.94 2.06-2.06.94zm-11 1L8.5 8.5l.94-2.06 2.06-.94-2.06-.94L8.5 2.5l-.94 2.06-2.06.94zm10 10l.94 2.06.94-2.06 2.06-.94-2.06-.94-.94-2.06-.94 2.06-2.06.94z\"/><path d=\"M17.41 7.96l-1.37-1.37c-.4-.4-.92-.59-1.43-.59-.52 0-1.04.2-1.43.59L10.3 9.45l-7.72 7.72c-.78.78-.78 2.05 0 2.83L4 21.41c.39.39.9.59 1.41.59.51 0 1.02-.2 1.41-.59l7.78-7.78 2.81-2.81c.8-.78.8-2.07 0-2.86zM5.41 20L4 18.59l7.72-7.72 1.47 1.35L5.41 20z\"/>\n",
              "  </svg>\n",
              "      </button>\n",
              "      \n",
              "  <style>\n",
              "    .colab-df-container {\n",
              "      display:flex;\n",
              "      flex-wrap:wrap;\n",
              "      gap: 12px;\n",
              "    }\n",
              "\n",
              "    .colab-df-convert {\n",
              "      background-color: #E8F0FE;\n",
              "      border: none;\n",
              "      border-radius: 50%;\n",
              "      cursor: pointer;\n",
              "      display: none;\n",
              "      fill: #1967D2;\n",
              "      height: 32px;\n",
              "      padding: 0 0 0 0;\n",
              "      width: 32px;\n",
              "    }\n",
              "\n",
              "    .colab-df-convert:hover {\n",
              "      background-color: #E2EBFA;\n",
              "      box-shadow: 0px 1px 2px rgba(60, 64, 67, 0.3), 0px 1px 3px 1px rgba(60, 64, 67, 0.15);\n",
              "      fill: #174EA6;\n",
              "    }\n",
              "\n",
              "    [theme=dark] .colab-df-convert {\n",
              "      background-color: #3B4455;\n",
              "      fill: #D2E3FC;\n",
              "    }\n",
              "\n",
              "    [theme=dark] .colab-df-convert:hover {\n",
              "      background-color: #434B5C;\n",
              "      box-shadow: 0px 1px 3px 1px rgba(0, 0, 0, 0.15);\n",
              "      filter: drop-shadow(0px 1px 2px rgba(0, 0, 0, 0.3));\n",
              "      fill: #FFFFFF;\n",
              "    }\n",
              "  </style>\n",
              "\n",
              "      <script>\n",
              "        const buttonEl =\n",
              "          document.querySelector('#df-c05f266e-592f-4cb2-98b1-416c3f235c67 button.colab-df-convert');\n",
              "        buttonEl.style.display =\n",
              "          google.colab.kernel.accessAllowed ? 'block' : 'none';\n",
              "\n",
              "        async function convertToInteractive(key) {\n",
              "          const element = document.querySelector('#df-c05f266e-592f-4cb2-98b1-416c3f235c67');\n",
              "          const dataTable =\n",
              "            await google.colab.kernel.invokeFunction('convertToInteractive',\n",
              "                                                     [key], {});\n",
              "          if (!dataTable) return;\n",
              "\n",
              "          const docLinkHtml = 'Like what you see? Visit the ' +\n",
              "            '<a target=\"_blank\" href=https://colab.research.google.com/notebooks/data_table.ipynb>data table notebook</a>'\n",
              "            + ' to learn more about interactive tables.';\n",
              "          element.innerHTML = '';\n",
              "          dataTable['output_type'] = 'display_data';\n",
              "          await google.colab.output.renderOutput(dataTable, element);\n",
              "          const docLink = document.createElement('div');\n",
              "          docLink.innerHTML = docLinkHtml;\n",
              "          element.appendChild(docLink);\n",
              "        }\n",
              "      </script>\n",
              "    </div>\n",
              "  </div>\n",
              "  "
            ]
          },
          "metadata": {},
          "execution_count": 3
        }
      ]
    },
    {
      "cell_type": "code",
      "source": [
        "df_ins.head()"
      ],
      "metadata": {
        "colab": {
          "base_uri": "https://localhost:8080/",
          "height": 386
        },
        "id": "apSRlVDYvC_g",
        "outputId": "afbd6b91-3a97-4d2e-b54b-b7e9e7f4d2d5"
      },
      "execution_count": null,
      "outputs": [
        {
          "output_type": "execute_result",
          "data": {
            "text/plain": [
              "         TXN_DATE_TIME TRANSACTION_ID CUSTOMER_ID POLICY_NUMBER POLICY_EFF_DT  \\\n",
              "0  2020-06-01 00:00:00    TXN00000001   A00003822   PLC00008468    2015-06-23   \n",
              "1  2020-06-01 00:00:00    TXN00000002   A00008149   PLC00009594    2018-04-21   \n",
              "2  2020-06-01 00:00:00    TXN00000003   A00003172   PLC00007969    2019-10-03   \n",
              "3  2020-06-01 00:00:00    TXN00000004   A00007572   PLC00009292    2016-11-29   \n",
              "4  2020-06-01 00:00:00    TXN00000005   A00008173   PLC00000204    2011-12-26   \n",
              "\n",
              "      LOSS_DT   REPORT_DT INSURANCE_TYPE  PREMIUM_AMOUNT  CLAIM_AMOUNT  ...  \\\n",
              "0  2020-05-16  2020-05-21         Health          157.13          9000  ...   \n",
              "1  2020-05-13  2020-05-18       Property          141.71         26000  ...   \n",
              "2  2020-05-21  2020-05-26       Property          157.24         13000  ...   \n",
              "3  2020-05-14  2020-05-19         Health          172.87         16000  ...   \n",
              "4  2020-05-17  2020-05-22         Travel           88.53          3000  ...   \n",
              "\n",
              "  CLAIM_STATUS INCIDENT_SEVERITY AUTHORITY_CONTACTED ANY_INJURY  \\\n",
              "0            A        Major Loss              Police          0   \n",
              "1            A        Total Loss           Ambulance          1   \n",
              "2            A        Total Loss              Police          0   \n",
              "3            A        Minor Loss           Ambulance          0   \n",
              "4            A        Major Loss              Police          0   \n",
              "\n",
              "  POLICE_REPORT_AVAILABLE  INCIDENT_STATE   INCIDENT_CITY  \\\n",
              "0                       1              GA        Savannah   \n",
              "1                       0              AL      Montgomery   \n",
              "2                       1              CO  Grand Junction   \n",
              "3                       0              GA        Savannah   \n",
              "4                       1              TN       Nashville   \n",
              "\n",
              "  INCIDENT_HOUR_OF_THE_DAY    AGENT_ID  VENDOR_ID  \n",
              "0                        4  AGENT00413  VNDR00556  \n",
              "1                        0  AGENT00769  VNDR00592  \n",
              "2                       19  AGENT00883  VNDR00031  \n",
              "3                       12  AGENT00278  VNDR00075  \n",
              "4                       18  AGENT00636  VNDR00472  \n",
              "\n",
              "[5 rows x 38 columns]"
            ],
            "text/html": [
              "\n",
              "  <div id=\"df-9d148aee-7601-403b-aec4-40dce89fcd87\">\n",
              "    <div class=\"colab-df-container\">\n",
              "      <div>\n",
              "<style scoped>\n",
              "    .dataframe tbody tr th:only-of-type {\n",
              "        vertical-align: middle;\n",
              "    }\n",
              "\n",
              "    .dataframe tbody tr th {\n",
              "        vertical-align: top;\n",
              "    }\n",
              "\n",
              "    .dataframe thead th {\n",
              "        text-align: right;\n",
              "    }\n",
              "</style>\n",
              "<table border=\"1\" class=\"dataframe\">\n",
              "  <thead>\n",
              "    <tr style=\"text-align: right;\">\n",
              "      <th></th>\n",
              "      <th>TXN_DATE_TIME</th>\n",
              "      <th>TRANSACTION_ID</th>\n",
              "      <th>CUSTOMER_ID</th>\n",
              "      <th>POLICY_NUMBER</th>\n",
              "      <th>POLICY_EFF_DT</th>\n",
              "      <th>LOSS_DT</th>\n",
              "      <th>REPORT_DT</th>\n",
              "      <th>INSURANCE_TYPE</th>\n",
              "      <th>PREMIUM_AMOUNT</th>\n",
              "      <th>CLAIM_AMOUNT</th>\n",
              "      <th>...</th>\n",
              "      <th>CLAIM_STATUS</th>\n",
              "      <th>INCIDENT_SEVERITY</th>\n",
              "      <th>AUTHORITY_CONTACTED</th>\n",
              "      <th>ANY_INJURY</th>\n",
              "      <th>POLICE_REPORT_AVAILABLE</th>\n",
              "      <th>INCIDENT_STATE</th>\n",
              "      <th>INCIDENT_CITY</th>\n",
              "      <th>INCIDENT_HOUR_OF_THE_DAY</th>\n",
              "      <th>AGENT_ID</th>\n",
              "      <th>VENDOR_ID</th>\n",
              "    </tr>\n",
              "  </thead>\n",
              "  <tbody>\n",
              "    <tr>\n",
              "      <th>0</th>\n",
              "      <td>2020-06-01 00:00:00</td>\n",
              "      <td>TXN00000001</td>\n",
              "      <td>A00003822</td>\n",
              "      <td>PLC00008468</td>\n",
              "      <td>2015-06-23</td>\n",
              "      <td>2020-05-16</td>\n",
              "      <td>2020-05-21</td>\n",
              "      <td>Health</td>\n",
              "      <td>157.13</td>\n",
              "      <td>9000</td>\n",
              "      <td>...</td>\n",
              "      <td>A</td>\n",
              "      <td>Major Loss</td>\n",
              "      <td>Police</td>\n",
              "      <td>0</td>\n",
              "      <td>1</td>\n",
              "      <td>GA</td>\n",
              "      <td>Savannah</td>\n",
              "      <td>4</td>\n",
              "      <td>AGENT00413</td>\n",
              "      <td>VNDR00556</td>\n",
              "    </tr>\n",
              "    <tr>\n",
              "      <th>1</th>\n",
              "      <td>2020-06-01 00:00:00</td>\n",
              "      <td>TXN00000002</td>\n",
              "      <td>A00008149</td>\n",
              "      <td>PLC00009594</td>\n",
              "      <td>2018-04-21</td>\n",
              "      <td>2020-05-13</td>\n",
              "      <td>2020-05-18</td>\n",
              "      <td>Property</td>\n",
              "      <td>141.71</td>\n",
              "      <td>26000</td>\n",
              "      <td>...</td>\n",
              "      <td>A</td>\n",
              "      <td>Total Loss</td>\n",
              "      <td>Ambulance</td>\n",
              "      <td>1</td>\n",
              "      <td>0</td>\n",
              "      <td>AL</td>\n",
              "      <td>Montgomery</td>\n",
              "      <td>0</td>\n",
              "      <td>AGENT00769</td>\n",
              "      <td>VNDR00592</td>\n",
              "    </tr>\n",
              "    <tr>\n",
              "      <th>2</th>\n",
              "      <td>2020-06-01 00:00:00</td>\n",
              "      <td>TXN00000003</td>\n",
              "      <td>A00003172</td>\n",
              "      <td>PLC00007969</td>\n",
              "      <td>2019-10-03</td>\n",
              "      <td>2020-05-21</td>\n",
              "      <td>2020-05-26</td>\n",
              "      <td>Property</td>\n",
              "      <td>157.24</td>\n",
              "      <td>13000</td>\n",
              "      <td>...</td>\n",
              "      <td>A</td>\n",
              "      <td>Total Loss</td>\n",
              "      <td>Police</td>\n",
              "      <td>0</td>\n",
              "      <td>1</td>\n",
              "      <td>CO</td>\n",
              "      <td>Grand Junction</td>\n",
              "      <td>19</td>\n",
              "      <td>AGENT00883</td>\n",
              "      <td>VNDR00031</td>\n",
              "    </tr>\n",
              "    <tr>\n",
              "      <th>3</th>\n",
              "      <td>2020-06-01 00:00:00</td>\n",
              "      <td>TXN00000004</td>\n",
              "      <td>A00007572</td>\n",
              "      <td>PLC00009292</td>\n",
              "      <td>2016-11-29</td>\n",
              "      <td>2020-05-14</td>\n",
              "      <td>2020-05-19</td>\n",
              "      <td>Health</td>\n",
              "      <td>172.87</td>\n",
              "      <td>16000</td>\n",
              "      <td>...</td>\n",
              "      <td>A</td>\n",
              "      <td>Minor Loss</td>\n",
              "      <td>Ambulance</td>\n",
              "      <td>0</td>\n",
              "      <td>0</td>\n",
              "      <td>GA</td>\n",
              "      <td>Savannah</td>\n",
              "      <td>12</td>\n",
              "      <td>AGENT00278</td>\n",
              "      <td>VNDR00075</td>\n",
              "    </tr>\n",
              "    <tr>\n",
              "      <th>4</th>\n",
              "      <td>2020-06-01 00:00:00</td>\n",
              "      <td>TXN00000005</td>\n",
              "      <td>A00008173</td>\n",
              "      <td>PLC00000204</td>\n",
              "      <td>2011-12-26</td>\n",
              "      <td>2020-05-17</td>\n",
              "      <td>2020-05-22</td>\n",
              "      <td>Travel</td>\n",
              "      <td>88.53</td>\n",
              "      <td>3000</td>\n",
              "      <td>...</td>\n",
              "      <td>A</td>\n",
              "      <td>Major Loss</td>\n",
              "      <td>Police</td>\n",
              "      <td>0</td>\n",
              "      <td>1</td>\n",
              "      <td>TN</td>\n",
              "      <td>Nashville</td>\n",
              "      <td>18</td>\n",
              "      <td>AGENT00636</td>\n",
              "      <td>VNDR00472</td>\n",
              "    </tr>\n",
              "  </tbody>\n",
              "</table>\n",
              "<p>5 rows × 38 columns</p>\n",
              "</div>\n",
              "      <button class=\"colab-df-convert\" onclick=\"convertToInteractive('df-9d148aee-7601-403b-aec4-40dce89fcd87')\"\n",
              "              title=\"Convert this dataframe to an interactive table.\"\n",
              "              style=\"display:none;\">\n",
              "        \n",
              "  <svg xmlns=\"http://www.w3.org/2000/svg\" height=\"24px\"viewBox=\"0 0 24 24\"\n",
              "       width=\"24px\">\n",
              "    <path d=\"M0 0h24v24H0V0z\" fill=\"none\"/>\n",
              "    <path d=\"M18.56 5.44l.94 2.06.94-2.06 2.06-.94-2.06-.94-.94-2.06-.94 2.06-2.06.94zm-11 1L8.5 8.5l.94-2.06 2.06-.94-2.06-.94L8.5 2.5l-.94 2.06-2.06.94zm10 10l.94 2.06.94-2.06 2.06-.94-2.06-.94-.94-2.06-.94 2.06-2.06.94z\"/><path d=\"M17.41 7.96l-1.37-1.37c-.4-.4-.92-.59-1.43-.59-.52 0-1.04.2-1.43.59L10.3 9.45l-7.72 7.72c-.78.78-.78 2.05 0 2.83L4 21.41c.39.39.9.59 1.41.59.51 0 1.02-.2 1.41-.59l7.78-7.78 2.81-2.81c.8-.78.8-2.07 0-2.86zM5.41 20L4 18.59l7.72-7.72 1.47 1.35L5.41 20z\"/>\n",
              "  </svg>\n",
              "      </button>\n",
              "      \n",
              "  <style>\n",
              "    .colab-df-container {\n",
              "      display:flex;\n",
              "      flex-wrap:wrap;\n",
              "      gap: 12px;\n",
              "    }\n",
              "\n",
              "    .colab-df-convert {\n",
              "      background-color: #E8F0FE;\n",
              "      border: none;\n",
              "      border-radius: 50%;\n",
              "      cursor: pointer;\n",
              "      display: none;\n",
              "      fill: #1967D2;\n",
              "      height: 32px;\n",
              "      padding: 0 0 0 0;\n",
              "      width: 32px;\n",
              "    }\n",
              "\n",
              "    .colab-df-convert:hover {\n",
              "      background-color: #E2EBFA;\n",
              "      box-shadow: 0px 1px 2px rgba(60, 64, 67, 0.3), 0px 1px 3px 1px rgba(60, 64, 67, 0.15);\n",
              "      fill: #174EA6;\n",
              "    }\n",
              "\n",
              "    [theme=dark] .colab-df-convert {\n",
              "      background-color: #3B4455;\n",
              "      fill: #D2E3FC;\n",
              "    }\n",
              "\n",
              "    [theme=dark] .colab-df-convert:hover {\n",
              "      background-color: #434B5C;\n",
              "      box-shadow: 0px 1px 3px 1px rgba(0, 0, 0, 0.15);\n",
              "      filter: drop-shadow(0px 1px 2px rgba(0, 0, 0, 0.3));\n",
              "      fill: #FFFFFF;\n",
              "    }\n",
              "  </style>\n",
              "\n",
              "      <script>\n",
              "        const buttonEl =\n",
              "          document.querySelector('#df-9d148aee-7601-403b-aec4-40dce89fcd87 button.colab-df-convert');\n",
              "        buttonEl.style.display =\n",
              "          google.colab.kernel.accessAllowed ? 'block' : 'none';\n",
              "\n",
              "        async function convertToInteractive(key) {\n",
              "          const element = document.querySelector('#df-9d148aee-7601-403b-aec4-40dce89fcd87');\n",
              "          const dataTable =\n",
              "            await google.colab.kernel.invokeFunction('convertToInteractive',\n",
              "                                                     [key], {});\n",
              "          if (!dataTable) return;\n",
              "\n",
              "          const docLinkHtml = 'Like what you see? Visit the ' +\n",
              "            '<a target=\"_blank\" href=https://colab.research.google.com/notebooks/data_table.ipynb>data table notebook</a>'\n",
              "            + ' to learn more about interactive tables.';\n",
              "          element.innerHTML = '';\n",
              "          dataTable['output_type'] = 'display_data';\n",
              "          await google.colab.output.renderOutput(dataTable, element);\n",
              "          const docLink = document.createElement('div');\n",
              "          docLink.innerHTML = docLinkHtml;\n",
              "          element.appendChild(docLink);\n",
              "        }\n",
              "      </script>\n",
              "    </div>\n",
              "  </div>\n",
              "  "
            ]
          },
          "metadata": {},
          "execution_count": 4
        }
      ]
    },
    {
      "cell_type": "code",
      "source": [
        "df_ven.head()"
      ],
      "metadata": {
        "colab": {
          "base_uri": "https://localhost:8080/",
          "height": 206
        },
        "id": "cTHKmms8vC7Z",
        "outputId": "bc89edc1-3810-4bc2-8b6f-ec2738ab0785"
      },
      "execution_count": null,
      "outputs": [
        {
          "output_type": "execute_result",
          "data": {
            "text/plain": [
              "   VENDOR_ID              VENDOR_NAME                   ADDRESS_LINE1  \\\n",
              "0  VNDR00001  King, Proctor and Jones        2027 North Shannon Drive   \n",
              "1  VNDR00002               Garcia Ltd          5701 East Shirley Lane   \n",
              "2  VNDR00003               Cherry LLC            1217 Cottondale Road   \n",
              "3  VNDR00004              Mays-Benson  227 West Montgomery Cross Road   \n",
              "4  VNDR00005               Wilson PLC            23 North Hill Street   \n",
              "\n",
              "  ADDRESS_LINE2          CITY STATE  POSTAL_CODE  \n",
              "0            #5  Fayetteville    AR        72703  \n",
              "1           NaN    Montgomery    AL        36117  \n",
              "2           NaN    Montgomery    AL        36109  \n",
              "3          #736      Savannah    GA        31406  \n",
              "4           NaN     Nashville    TN        37210  "
            ],
            "text/html": [
              "\n",
              "  <div id=\"df-dbf80b5a-a1ac-4987-b5a3-5844dcb19bc0\">\n",
              "    <div class=\"colab-df-container\">\n",
              "      <div>\n",
              "<style scoped>\n",
              "    .dataframe tbody tr th:only-of-type {\n",
              "        vertical-align: middle;\n",
              "    }\n",
              "\n",
              "    .dataframe tbody tr th {\n",
              "        vertical-align: top;\n",
              "    }\n",
              "\n",
              "    .dataframe thead th {\n",
              "        text-align: right;\n",
              "    }\n",
              "</style>\n",
              "<table border=\"1\" class=\"dataframe\">\n",
              "  <thead>\n",
              "    <tr style=\"text-align: right;\">\n",
              "      <th></th>\n",
              "      <th>VENDOR_ID</th>\n",
              "      <th>VENDOR_NAME</th>\n",
              "      <th>ADDRESS_LINE1</th>\n",
              "      <th>ADDRESS_LINE2</th>\n",
              "      <th>CITY</th>\n",
              "      <th>STATE</th>\n",
              "      <th>POSTAL_CODE</th>\n",
              "    </tr>\n",
              "  </thead>\n",
              "  <tbody>\n",
              "    <tr>\n",
              "      <th>0</th>\n",
              "      <td>VNDR00001</td>\n",
              "      <td>King, Proctor and Jones</td>\n",
              "      <td>2027 North Shannon Drive</td>\n",
              "      <td>#5</td>\n",
              "      <td>Fayetteville</td>\n",
              "      <td>AR</td>\n",
              "      <td>72703</td>\n",
              "    </tr>\n",
              "    <tr>\n",
              "      <th>1</th>\n",
              "      <td>VNDR00002</td>\n",
              "      <td>Garcia Ltd</td>\n",
              "      <td>5701 East Shirley Lane</td>\n",
              "      <td>NaN</td>\n",
              "      <td>Montgomery</td>\n",
              "      <td>AL</td>\n",
              "      <td>36117</td>\n",
              "    </tr>\n",
              "    <tr>\n",
              "      <th>2</th>\n",
              "      <td>VNDR00003</td>\n",
              "      <td>Cherry LLC</td>\n",
              "      <td>1217 Cottondale Road</td>\n",
              "      <td>NaN</td>\n",
              "      <td>Montgomery</td>\n",
              "      <td>AL</td>\n",
              "      <td>36109</td>\n",
              "    </tr>\n",
              "    <tr>\n",
              "      <th>3</th>\n",
              "      <td>VNDR00004</td>\n",
              "      <td>Mays-Benson</td>\n",
              "      <td>227 West Montgomery Cross Road</td>\n",
              "      <td>#736</td>\n",
              "      <td>Savannah</td>\n",
              "      <td>GA</td>\n",
              "      <td>31406</td>\n",
              "    </tr>\n",
              "    <tr>\n",
              "      <th>4</th>\n",
              "      <td>VNDR00005</td>\n",
              "      <td>Wilson PLC</td>\n",
              "      <td>23 North Hill Street</td>\n",
              "      <td>NaN</td>\n",
              "      <td>Nashville</td>\n",
              "      <td>TN</td>\n",
              "      <td>37210</td>\n",
              "    </tr>\n",
              "  </tbody>\n",
              "</table>\n",
              "</div>\n",
              "      <button class=\"colab-df-convert\" onclick=\"convertToInteractive('df-dbf80b5a-a1ac-4987-b5a3-5844dcb19bc0')\"\n",
              "              title=\"Convert this dataframe to an interactive table.\"\n",
              "              style=\"display:none;\">\n",
              "        \n",
              "  <svg xmlns=\"http://www.w3.org/2000/svg\" height=\"24px\"viewBox=\"0 0 24 24\"\n",
              "       width=\"24px\">\n",
              "    <path d=\"M0 0h24v24H0V0z\" fill=\"none\"/>\n",
              "    <path d=\"M18.56 5.44l.94 2.06.94-2.06 2.06-.94-2.06-.94-.94-2.06-.94 2.06-2.06.94zm-11 1L8.5 8.5l.94-2.06 2.06-.94-2.06-.94L8.5 2.5l-.94 2.06-2.06.94zm10 10l.94 2.06.94-2.06 2.06-.94-2.06-.94-.94-2.06-.94 2.06-2.06.94z\"/><path d=\"M17.41 7.96l-1.37-1.37c-.4-.4-.92-.59-1.43-.59-.52 0-1.04.2-1.43.59L10.3 9.45l-7.72 7.72c-.78.78-.78 2.05 0 2.83L4 21.41c.39.39.9.59 1.41.59.51 0 1.02-.2 1.41-.59l7.78-7.78 2.81-2.81c.8-.78.8-2.07 0-2.86zM5.41 20L4 18.59l7.72-7.72 1.47 1.35L5.41 20z\"/>\n",
              "  </svg>\n",
              "      </button>\n",
              "      \n",
              "  <style>\n",
              "    .colab-df-container {\n",
              "      display:flex;\n",
              "      flex-wrap:wrap;\n",
              "      gap: 12px;\n",
              "    }\n",
              "\n",
              "    .colab-df-convert {\n",
              "      background-color: #E8F0FE;\n",
              "      border: none;\n",
              "      border-radius: 50%;\n",
              "      cursor: pointer;\n",
              "      display: none;\n",
              "      fill: #1967D2;\n",
              "      height: 32px;\n",
              "      padding: 0 0 0 0;\n",
              "      width: 32px;\n",
              "    }\n",
              "\n",
              "    .colab-df-convert:hover {\n",
              "      background-color: #E2EBFA;\n",
              "      box-shadow: 0px 1px 2px rgba(60, 64, 67, 0.3), 0px 1px 3px 1px rgba(60, 64, 67, 0.15);\n",
              "      fill: #174EA6;\n",
              "    }\n",
              "\n",
              "    [theme=dark] .colab-df-convert {\n",
              "      background-color: #3B4455;\n",
              "      fill: #D2E3FC;\n",
              "    }\n",
              "\n",
              "    [theme=dark] .colab-df-convert:hover {\n",
              "      background-color: #434B5C;\n",
              "      box-shadow: 0px 1px 3px 1px rgba(0, 0, 0, 0.15);\n",
              "      filter: drop-shadow(0px 1px 2px rgba(0, 0, 0, 0.3));\n",
              "      fill: #FFFFFF;\n",
              "    }\n",
              "  </style>\n",
              "\n",
              "      <script>\n",
              "        const buttonEl =\n",
              "          document.querySelector('#df-dbf80b5a-a1ac-4987-b5a3-5844dcb19bc0 button.colab-df-convert');\n",
              "        buttonEl.style.display =\n",
              "          google.colab.kernel.accessAllowed ? 'block' : 'none';\n",
              "\n",
              "        async function convertToInteractive(key) {\n",
              "          const element = document.querySelector('#df-dbf80b5a-a1ac-4987-b5a3-5844dcb19bc0');\n",
              "          const dataTable =\n",
              "            await google.colab.kernel.invokeFunction('convertToInteractive',\n",
              "                                                     [key], {});\n",
              "          if (!dataTable) return;\n",
              "\n",
              "          const docLinkHtml = 'Like what you see? Visit the ' +\n",
              "            '<a target=\"_blank\" href=https://colab.research.google.com/notebooks/data_table.ipynb>data table notebook</a>'\n",
              "            + ' to learn more about interactive tables.';\n",
              "          element.innerHTML = '';\n",
              "          dataTable['output_type'] = 'display_data';\n",
              "          await google.colab.output.renderOutput(dataTable, element);\n",
              "          const docLink = document.createElement('div');\n",
              "          docLink.innerHTML = docLinkHtml;\n",
              "          element.appendChild(docLink);\n",
              "        }\n",
              "      </script>\n",
              "    </div>\n",
              "  </div>\n",
              "  "
            ]
          },
          "metadata": {},
          "execution_count": 5
        }
      ]
    },
    {
      "cell_type": "code",
      "source": [
        "print('-----------EMPLOYEE-----------')\n",
        "print(df_emp.info())"
      ],
      "metadata": {
        "colab": {
          "base_uri": "https://localhost:8080/"
        },
        "id": "rf_uTLtHvCsq",
        "outputId": "78d2c5e0-faaf-4c06-8f98-bff27fec799e"
      },
      "execution_count": null,
      "outputs": [
        {
          "output_type": "stream",
          "name": "stdout",
          "text": [
            "-----------EMPLOYEE-----------\n",
            "<class 'pandas.core.frame.DataFrame'>\n",
            "RangeIndex: 1200 entries, 0 to 1199\n",
            "Data columns (total 10 columns):\n",
            " #   Column              Non-Null Count  Dtype \n",
            "---  ------              --------------  ----- \n",
            " 0   AGENT_ID            1200 non-null   object\n",
            " 1   AGENT_NAME          1200 non-null   object\n",
            " 2   DATE_OF_JOINING     1200 non-null   object\n",
            " 3   ADDRESS_LINE1       1200 non-null   object\n",
            " 4   ADDRESS_LINE2       179 non-null    object\n",
            " 5   CITY                1193 non-null   object\n",
            " 6   STATE               1200 non-null   object\n",
            " 7   POSTAL_CODE         1200 non-null   int64 \n",
            " 8   EMP_ROUTING_NUMBER  1200 non-null   int64 \n",
            " 9   EMP_ACCT_NUMBER     1200 non-null   object\n",
            "dtypes: int64(2), object(8)\n",
            "memory usage: 93.9+ KB\n",
            "None\n"
          ]
        }
      ]
    },
    {
      "cell_type": "code",
      "source": [
        "print('-----------INSURANCE-----------')\n",
        "print(df_ins.info())"
      ],
      "metadata": {
        "colab": {
          "base_uri": "https://localhost:8080/"
        },
        "id": "Uvp9dqwVvClx",
        "outputId": "04a9f1ba-0abc-4be4-c939-8cbd08ab261c"
      },
      "execution_count": null,
      "outputs": [
        {
          "output_type": "stream",
          "name": "stdout",
          "text": [
            "-----------INSURANCE-----------\n",
            "<class 'pandas.core.frame.DataFrame'>\n",
            "RangeIndex: 10000 entries, 0 to 9999\n",
            "Data columns (total 38 columns):\n",
            " #   Column                    Non-Null Count  Dtype  \n",
            "---  ------                    --------------  -----  \n",
            " 0   TXN_DATE_TIME             10000 non-null  object \n",
            " 1   TRANSACTION_ID            10000 non-null  object \n",
            " 2   CUSTOMER_ID               10000 non-null  object \n",
            " 3   POLICY_NUMBER             10000 non-null  object \n",
            " 4   POLICY_EFF_DT             10000 non-null  object \n",
            " 5   LOSS_DT                   10000 non-null  object \n",
            " 6   REPORT_DT                 10000 non-null  object \n",
            " 7   INSURANCE_TYPE            10000 non-null  object \n",
            " 8   PREMIUM_AMOUNT            10000 non-null  float64\n",
            " 9   CLAIM_AMOUNT              10000 non-null  int64  \n",
            " 10  CUSTOMER_NAME             10000 non-null  object \n",
            " 11  ADDRESS_LINE1             10000 non-null  object \n",
            " 12  ADDRESS_LINE2             1495 non-null   object \n",
            " 13  CITY                      9946 non-null   object \n",
            " 14  STATE                     10000 non-null  object \n",
            " 15  POSTAL_CODE               10000 non-null  int64  \n",
            " 16  SSN                       10000 non-null  object \n",
            " 17  MARITAL_STATUS            10000 non-null  object \n",
            " 18  AGE                       10000 non-null  int64  \n",
            " 19  TENURE                    10000 non-null  int64  \n",
            " 20  EMPLOYMENT_STATUS         10000 non-null  object \n",
            " 21  NO_OF_FAMILY_MEMBERS      10000 non-null  int64  \n",
            " 22  RISK_SEGMENTATION         10000 non-null  object \n",
            " 23  HOUSE_TYPE                10000 non-null  object \n",
            " 24  SOCIAL_CLASS              10000 non-null  object \n",
            " 25  ROUTING_NUMBER            10000 non-null  int64  \n",
            " 26  ACCT_NUMBER               10000 non-null  object \n",
            " 27  CUSTOMER_EDUCATION_LEVEL  9471 non-null   object \n",
            " 28  CLAIM_STATUS              10000 non-null  object \n",
            " 29  INCIDENT_SEVERITY         10000 non-null  object \n",
            " 30  AUTHORITY_CONTACTED       10000 non-null  object \n",
            " 31  ANY_INJURY                10000 non-null  int64  \n",
            " 32  POLICE_REPORT_AVAILABLE   10000 non-null  int64  \n",
            " 33  INCIDENT_STATE            10000 non-null  object \n",
            " 34  INCIDENT_CITY             9954 non-null   object \n",
            " 35  INCIDENT_HOUR_OF_THE_DAY  10000 non-null  int64  \n",
            " 36  AGENT_ID                  10000 non-null  object \n",
            " 37  VENDOR_ID                 6755 non-null   object \n",
            "dtypes: float64(1), int64(9), object(28)\n",
            "memory usage: 2.9+ MB\n",
            "None\n"
          ]
        }
      ]
    },
    {
      "cell_type": "code",
      "source": [
        "print('-----------VENDOR-----------')\n",
        "print(df_ven.info())"
      ],
      "metadata": {
        "colab": {
          "base_uri": "https://localhost:8080/"
        },
        "id": "CNOH0Ba-vChP",
        "outputId": "a34471cf-0a2f-488c-dbcf-b000afdfad42"
      },
      "execution_count": null,
      "outputs": [
        {
          "output_type": "stream",
          "name": "stdout",
          "text": [
            "-----------VENDOR-----------\n",
            "<class 'pandas.core.frame.DataFrame'>\n",
            "RangeIndex: 600 entries, 0 to 599\n",
            "Data columns (total 7 columns):\n",
            " #   Column         Non-Null Count  Dtype \n",
            "---  ------         --------------  ----- \n",
            " 0   VENDOR_ID      600 non-null    object\n",
            " 1   VENDOR_NAME    600 non-null    object\n",
            " 2   ADDRESS_LINE1  600 non-null    object\n",
            " 3   ADDRESS_LINE2  97 non-null     object\n",
            " 4   CITY           594 non-null    object\n",
            " 5   STATE          600 non-null    object\n",
            " 6   POSTAL_CODE    600 non-null    int64 \n",
            "dtypes: int64(1), object(6)\n",
            "memory usage: 32.9+ KB\n",
            "None\n"
          ]
        }
      ]
    },
    {
      "cell_type": "code",
      "source": [
        ""
      ],
      "metadata": {
        "id": "xjCjHe-0R2Es"
      },
      "execution_count": null,
      "outputs": []
    },
    {
      "cell_type": "markdown",
      "source": [
        "## **TASK 1** "
      ],
      "metadata": {
        "id": "zNHl4TCmR3AX"
      }
    },
    {
      "cell_type": "code",
      "source": [
        "df=pd.merge(df_ins,df_emp,how='left',on='AGENT_ID',suffixes=('_ins','_emp'))"
      ],
      "metadata": {
        "id": "mwD-hdKmvCOn"
      },
      "execution_count": null,
      "outputs": []
    },
    {
      "cell_type": "code",
      "source": [
        "df=pd.merge(df,df_ven,how='left',on='VENDOR_ID')"
      ],
      "metadata": {
        "id": "bRuHPGUyvB0b"
      },
      "execution_count": null,
      "outputs": []
    },
    {
      "cell_type": "code",
      "source": [
        "df=pd.DataFrame(df)"
      ],
      "metadata": {
        "id": "CqQImHv5vBUu"
      },
      "execution_count": null,
      "outputs": []
    },
    {
      "cell_type": "code",
      "source": [
        "print(sorted(list(df.columns)))"
      ],
      "metadata": {
        "colab": {
          "base_uri": "https://localhost:8080/"
        },
        "id": "o28wyR_cvAtz",
        "outputId": "43a20556-7cb5-4e07-cb52-d57b0c7c3113"
      },
      "execution_count": null,
      "outputs": [
        {
          "output_type": "stream",
          "name": "stdout",
          "text": [
            "['ACCT_NUMBER', 'ADDRESS_LINE1', 'ADDRESS_LINE1_emp', 'ADDRESS_LINE1_ins', 'ADDRESS_LINE2', 'ADDRESS_LINE2_emp', 'ADDRESS_LINE2_ins', 'AGE', 'AGENT_ID', 'AGENT_NAME', 'ANY_INJURY', 'AUTHORITY_CONTACTED', 'CITY', 'CITY_emp', 'CITY_ins', 'CLAIM_AMOUNT', 'CLAIM_STATUS', 'CUSTOMER_EDUCATION_LEVEL', 'CUSTOMER_ID', 'CUSTOMER_NAME', 'DATE_OF_JOINING', 'EMPLOYMENT_STATUS', 'EMP_ACCT_NUMBER', 'EMP_ROUTING_NUMBER', 'HOUSE_TYPE', 'INCIDENT_CITY', 'INCIDENT_HOUR_OF_THE_DAY', 'INCIDENT_SEVERITY', 'INCIDENT_STATE', 'INSURANCE_TYPE', 'LOSS_DT', 'MARITAL_STATUS', 'NO_OF_FAMILY_MEMBERS', 'POLICE_REPORT_AVAILABLE', 'POLICY_EFF_DT', 'POLICY_NUMBER', 'POSTAL_CODE', 'POSTAL_CODE_emp', 'POSTAL_CODE_ins', 'PREMIUM_AMOUNT', 'REPORT_DT', 'RISK_SEGMENTATION', 'ROUTING_NUMBER', 'SOCIAL_CLASS', 'SSN', 'STATE', 'STATE_emp', 'STATE_ins', 'TENURE', 'TRANSACTION_ID', 'TXN_DATE_TIME', 'VENDOR_ID', 'VENDOR_NAME']\n"
          ]
        }
      ]
    },
    {
      "cell_type": "markdown",
      "source": [
        "['ACCT_NUMBER', 'ADDRESS_LINE1', 'ADDRESS_LINE1_emp', 'ADDRESS_LINE1_ins', 'ADDRESS_LINE2', 'ADDRESS_LINE2_emp', 'ADDRESS_LINE2_ins', 'AGE', 'AGENT_ID', 'AGENT_NAME', 'ANY_INJURY', 'AUTHORITY_CONTACTED', 'CITY', 'CITY_emp', 'CITY_ins', 'CLAIM_AMOUNT', 'CLAIM_STATUS', 'CUSTOMER_EDUCATION_LEVEL', 'CUSTOMER_ID', 'CUSTOMER_NAME', 'DATE_OF_JOINING', 'EMPLOYMENT_STATUS', 'EMP_ACCT_NUMBER', 'EMP_ROUTING_NUMBER', 'HOUSE_TYPE', 'INCIDENT_CITY', 'INCIDENT_HOUR_OF_THE_DAY', 'INCIDENT_SEVERITY', 'INCIDENT_STATE', 'INSURANCE_TYPE', 'LOSS_DT', 'MARITAL_STATUS', 'NO_OF_FAMILY_MEMBERS', 'POLICE_REPORT_AVAILABLE', 'POLICY_EFF_DT', 'POLICY_NUMBER', 'POSTAL_CODE', 'POSTAL_CODE_emp', 'POSTAL_CODE_ins', 'PREMIUM_AMOUNT', 'REPORT_DT', 'RISK_SEGMENTATION', 'ROUTING_NUMBER', 'SOCIAL_CLASS', 'SSN', 'STATE', 'STATE_emp', 'STATE_ins', 'TENURE', 'TRANSACTION_ID', 'TXN_DATE_TIME', 'VENDOR_ID', 'VENDOR_NAME']"
      ],
      "metadata": {
        "id": "QrIvvoU6FQjP"
      }
    },
    {
      "cell_type": "code",
      "source": [
        "df=df[['TRANSACTION_ID','CUSTOMER_ID','TXN_DATE_TIME','RISK_SEGMENTATION','VENDOR_ID', 'VENDOR_NAME', 'STATE', 'STATE_emp', 'STATE_ins','CLAIM_AMOUNT', 'CLAIM_STATUS','INCIDENT_SEVERITY', 'INCIDENT_STATE', 'INSURANCE_TYPE', 'AGENT_ID', 'AGENT_NAME', 'ANY_INJURY', 'AUTHORITY_CONTACTED','POLICE_REPORT_AVAILABLE','PREMIUM_AMOUNT','TENURE','EMPLOYMENT_STATUS','NO_OF_FAMILY_MEMBERS']]"
      ],
      "metadata": {
        "id": "1KK0DqUfHfM4"
      },
      "execution_count": null,
      "outputs": []
    },
    {
      "cell_type": "markdown",
      "source": [
        "# **TASK 2**\n",
        "Complete"
      ],
      "metadata": {
        "id": "qYu-s8CnQBPr"
      }
    },
    {
      "cell_type": "code",
      "source": [
        "df.groupby(by='INSURANCE_TYPE').count().sort_values('TRANSACTION_ID',ascending=False).head(3)['TRANSACTION_ID']"
      ],
      "metadata": {
        "colab": {
          "base_uri": "https://localhost:8080/"
        },
        "id": "jLMdH2OCDNiT",
        "outputId": "f4df55be-f8f1-4f65-8167-51b713396764"
      },
      "execution_count": null,
      "outputs": [
        {
          "output_type": "execute_result",
          "data": {
            "text/plain": [
              "INSURANCE_TYPE\n",
              "Mobile      1692\n",
              "Property    1692\n",
              "Health      1690\n",
              "Name: TRANSACTION_ID, dtype: int64"
            ]
          },
          "metadata": {},
          "execution_count": 14
        }
      ]
    },
    {
      "cell_type": "markdown",
      "source": [
        "# **TASK 3**\n",
        "Complete"
      ],
      "metadata": {
        "id": "_-t8qnjzQMtD"
      }
    },
    {
      "cell_type": "code",
      "source": [
        "df[df.RISK_SEGMENTATION=='H'].groupby(by='STATE_ins').count().sort_values('TRANSACTION_ID',ascending=False).head(5)['TRANSACTION_ID']"
      ],
      "metadata": {
        "colab": {
          "base_uri": "https://localhost:8080/"
        },
        "id": "8LURYZ4iEBzd",
        "outputId": "34b50115-29db-4dc4-89ea-b5ac75750b26"
      },
      "execution_count": null,
      "outputs": [
        {
          "output_type": "execute_result",
          "data": {
            "text/plain": [
              "STATE_ins\n",
              "CA    148\n",
              "AZ    105\n",
              "FL    104\n",
              "TN    100\n",
              "AR     97\n",
              "Name: TRANSACTION_ID, dtype: int64"
            ]
          },
          "metadata": {},
          "execution_count": 15
        }
      ]
    },
    {
      "cell_type": "markdown",
      "source": [
        "# **TASK 4**\n",
        "Complete"
      ],
      "metadata": {
        "id": "7jERBaenQQQ2"
      }
    },
    {
      "cell_type": "code",
      "source": [
        "df['COLOCATION'] = np.where((df['STATE']==df['STATE_emp']) & (df['STATE']==df['STATE_ins']), 1, 0)"
      ],
      "metadata": {
        "id": "AvTcKzedEB4r"
      },
      "execution_count": null,
      "outputs": []
    },
    {
      "cell_type": "code",
      "source": [
        "colocation_mean=df['COLOCATION'].mean()\n",
        "print(colocation_mean)"
      ],
      "metadata": {
        "colab": {
          "base_uri": "https://localhost:8080/"
        },
        "id": "hd6psBCTopLz",
        "outputId": "132b3c63-338c-4c98-a90b-fd32ec8b768d"
      },
      "execution_count": null,
      "outputs": [
        {
          "output_type": "stream",
          "name": "stdout",
          "text": [
            "0.0035\n"
          ]
        }
      ]
    },
    {
      "cell_type": "markdown",
      "source": [
        "# **TASK 5**\n",
        "Complete"
      ],
      "metadata": {
        "id": "vwjIubY8Rk8T"
      }
    },
    {
      "cell_type": "code",
      "source": [
        "df['AUTHORITY_CONTACTED']=np.where(df.POLICE_REPORT_AVAILABLE==1,'Police',df['AUTHORITY_CONTACTED'])"
      ],
      "metadata": {
        "id": "4uXfqiFUTaJx"
      },
      "execution_count": null,
      "outputs": []
    },
    {
      "cell_type": "markdown",
      "source": [
        "# **TASK 6**"
      ],
      "metadata": {
        "id": "-gUsl3SpTNlL"
      }
    },
    {
      "cell_type": "code",
      "source": [
        "df.TXN_DATE_TIME=pd.to_datetime(df.TXN_DATE_TIME)"
      ],
      "metadata": {
        "id": "fgAAMAGUTdmV"
      },
      "execution_count": null,
      "outputs": []
    },
    {
      "cell_type": "code",
      "source": [
        "df.sort_values('TXN_DATE_TIME',ascending=False).iloc[0]['TXN_DATE_TIME']"
      ],
      "metadata": {
        "id": "eqUKz1yDTdkK",
        "colab": {
          "base_uri": "https://localhost:8080/"
        },
        "outputId": "167ea5df-d13f-47f6-b666-31747460bdf7"
      },
      "execution_count": null,
      "outputs": [
        {
          "output_type": "execute_result",
          "data": {
            "text/plain": [
              "Timestamp('2021-06-30 00:00:00')"
            ]
          },
          "metadata": {},
          "execution_count": 20
        }
      ]
    },
    {
      "cell_type": "code",
      "source": [
        "a= df.TXN_DATE_TIME[0] \n",
        "a"
      ],
      "metadata": {
        "id": "_CTFm_MbcceS",
        "colab": {
          "base_uri": "https://localhost:8080/"
        },
        "outputId": "02b1da51-f141-4fb2-8a8d-b7756be8ec35"
      },
      "execution_count": null,
      "outputs": [
        {
          "output_type": "execute_result",
          "data": {
            "text/plain": [
              "Timestamp('2020-06-01 00:00:00')"
            ]
          },
          "metadata": {},
          "execution_count": 49
        }
      ]
    },
    {
      "cell_type": "code",
      "source": [
        "a - pd.DateOffset(months=1)"
      ],
      "metadata": {
        "id": "k14DkG3-TdfE",
        "colab": {
          "base_uri": "https://localhost:8080/"
        },
        "outputId": "7271baca-ddfd-49a7-e2d4-5f5314098623"
      },
      "execution_count": null,
      "outputs": [
        {
          "output_type": "execute_result",
          "data": {
            "text/plain": [
              "Timestamp('2020-05-01 00:00:00')"
            ]
          },
          "metadata": {},
          "execution_count": 51
        }
      ]
    },
    {
      "cell_type": "code",
      "source": [
        ""
      ],
      "metadata": {
        "id": "bMMjrQuBa4Kx"
      },
      "execution_count": null,
      "outputs": []
    },
    {
      "cell_type": "markdown",
      "source": [
        "# **TASK 7**\n",
        "Complete"
      ],
      "metadata": {
        "id": "DW9gDxRKTNZZ"
      }
    },
    {
      "cell_type": "code",
      "source": [
        "#Method 1\n",
        "\n",
        "#id=[]\n",
        "#claim=[]\n",
        "#for i in df.AGENT_ID.unique():\n",
        "#    p=df[df.AGENT_ID==i]\n",
        "#    if len(p.INSURANCE_TYPE.unique())>2:\n",
        "#        id.append(i)\n",
        "#        claim.append(p.CLAIM_AMOUNT.sum())\n",
        "#p=pd.DataFrame(zip(id,claim),columns=['AGENT_ID','TOTAL_CLAIM_AMOUNT'])\n",
        "#p=p.sort_values(by='TOTAL_CLAIM_AMOUNT',ascending=False)"
      ],
      "metadata": {
        "id": "u8A-8U85mqH1"
      },
      "execution_count": null,
      "outputs": []
    },
    {
      "cell_type": "code",
      "source": [
        "#Method 2\n",
        "\n",
        "df1=df.groupby(['AGENT_ID','INSURANCE_TYPE'],as_index=False).sum()[['AGENT_ID','INSURANCE_TYPE','CLAIM_AMOUNT']] #.groupby('AGENT_ID',as_index=False).sum()\n",
        "df1"
      ],
      "metadata": {
        "id": "F0UTkKjmTfDG",
        "colab": {
          "base_uri": "https://localhost:8080/",
          "height": 424
        },
        "outputId": "2b6cd0f0-9d66-4f8d-dc36-a4b3d2250ee3"
      },
      "execution_count": null,
      "outputs": [
        {
          "output_type": "execute_result",
          "data": {
            "text/plain": [
              "        AGENT_ID INSURANCE_TYPE  CLAIM_AMOUNT\n",
              "0     AGENT00001         Mobile           500\n",
              "1     AGENT00001          Motor         24000\n",
              "2     AGENT00001       Property         58000\n",
              "3     AGENT00001         Travel          3000\n",
              "4     AGENT00002           Life         79000\n",
              "...          ...            ...           ...\n",
              "5459  AGENT01200           Life         66000\n",
              "5460  AGENT01200         Mobile           900\n",
              "5461  AGENT01200          Motor          4000\n",
              "5462  AGENT01200       Property         10000\n",
              "5463  AGENT01200         Travel          7000\n",
              "\n",
              "[5464 rows x 3 columns]"
            ],
            "text/html": [
              "\n",
              "  <div id=\"df-86dcf1c8-4905-480c-a061-10854851446d\">\n",
              "    <div class=\"colab-df-container\">\n",
              "      <div>\n",
              "<style scoped>\n",
              "    .dataframe tbody tr th:only-of-type {\n",
              "        vertical-align: middle;\n",
              "    }\n",
              "\n",
              "    .dataframe tbody tr th {\n",
              "        vertical-align: top;\n",
              "    }\n",
              "\n",
              "    .dataframe thead th {\n",
              "        text-align: right;\n",
              "    }\n",
              "</style>\n",
              "<table border=\"1\" class=\"dataframe\">\n",
              "  <thead>\n",
              "    <tr style=\"text-align: right;\">\n",
              "      <th></th>\n",
              "      <th>AGENT_ID</th>\n",
              "      <th>INSURANCE_TYPE</th>\n",
              "      <th>CLAIM_AMOUNT</th>\n",
              "    </tr>\n",
              "  </thead>\n",
              "  <tbody>\n",
              "    <tr>\n",
              "      <th>0</th>\n",
              "      <td>AGENT00001</td>\n",
              "      <td>Mobile</td>\n",
              "      <td>500</td>\n",
              "    </tr>\n",
              "    <tr>\n",
              "      <th>1</th>\n",
              "      <td>AGENT00001</td>\n",
              "      <td>Motor</td>\n",
              "      <td>24000</td>\n",
              "    </tr>\n",
              "    <tr>\n",
              "      <th>2</th>\n",
              "      <td>AGENT00001</td>\n",
              "      <td>Property</td>\n",
              "      <td>58000</td>\n",
              "    </tr>\n",
              "    <tr>\n",
              "      <th>3</th>\n",
              "      <td>AGENT00001</td>\n",
              "      <td>Travel</td>\n",
              "      <td>3000</td>\n",
              "    </tr>\n",
              "    <tr>\n",
              "      <th>4</th>\n",
              "      <td>AGENT00002</td>\n",
              "      <td>Life</td>\n",
              "      <td>79000</td>\n",
              "    </tr>\n",
              "    <tr>\n",
              "      <th>...</th>\n",
              "      <td>...</td>\n",
              "      <td>...</td>\n",
              "      <td>...</td>\n",
              "    </tr>\n",
              "    <tr>\n",
              "      <th>5459</th>\n",
              "      <td>AGENT01200</td>\n",
              "      <td>Life</td>\n",
              "      <td>66000</td>\n",
              "    </tr>\n",
              "    <tr>\n",
              "      <th>5460</th>\n",
              "      <td>AGENT01200</td>\n",
              "      <td>Mobile</td>\n",
              "      <td>900</td>\n",
              "    </tr>\n",
              "    <tr>\n",
              "      <th>5461</th>\n",
              "      <td>AGENT01200</td>\n",
              "      <td>Motor</td>\n",
              "      <td>4000</td>\n",
              "    </tr>\n",
              "    <tr>\n",
              "      <th>5462</th>\n",
              "      <td>AGENT01200</td>\n",
              "      <td>Property</td>\n",
              "      <td>10000</td>\n",
              "    </tr>\n",
              "    <tr>\n",
              "      <th>5463</th>\n",
              "      <td>AGENT01200</td>\n",
              "      <td>Travel</td>\n",
              "      <td>7000</td>\n",
              "    </tr>\n",
              "  </tbody>\n",
              "</table>\n",
              "<p>5464 rows × 3 columns</p>\n",
              "</div>\n",
              "      <button class=\"colab-df-convert\" onclick=\"convertToInteractive('df-86dcf1c8-4905-480c-a061-10854851446d')\"\n",
              "              title=\"Convert this dataframe to an interactive table.\"\n",
              "              style=\"display:none;\">\n",
              "        \n",
              "  <svg xmlns=\"http://www.w3.org/2000/svg\" height=\"24px\"viewBox=\"0 0 24 24\"\n",
              "       width=\"24px\">\n",
              "    <path d=\"M0 0h24v24H0V0z\" fill=\"none\"/>\n",
              "    <path d=\"M18.56 5.44l.94 2.06.94-2.06 2.06-.94-2.06-.94-.94-2.06-.94 2.06-2.06.94zm-11 1L8.5 8.5l.94-2.06 2.06-.94-2.06-.94L8.5 2.5l-.94 2.06-2.06.94zm10 10l.94 2.06.94-2.06 2.06-.94-2.06-.94-.94-2.06-.94 2.06-2.06.94z\"/><path d=\"M17.41 7.96l-1.37-1.37c-.4-.4-.92-.59-1.43-.59-.52 0-1.04.2-1.43.59L10.3 9.45l-7.72 7.72c-.78.78-.78 2.05 0 2.83L4 21.41c.39.39.9.59 1.41.59.51 0 1.02-.2 1.41-.59l7.78-7.78 2.81-2.81c.8-.78.8-2.07 0-2.86zM5.41 20L4 18.59l7.72-7.72 1.47 1.35L5.41 20z\"/>\n",
              "  </svg>\n",
              "      </button>\n",
              "      \n",
              "  <style>\n",
              "    .colab-df-container {\n",
              "      display:flex;\n",
              "      flex-wrap:wrap;\n",
              "      gap: 12px;\n",
              "    }\n",
              "\n",
              "    .colab-df-convert {\n",
              "      background-color: #E8F0FE;\n",
              "      border: none;\n",
              "      border-radius: 50%;\n",
              "      cursor: pointer;\n",
              "      display: none;\n",
              "      fill: #1967D2;\n",
              "      height: 32px;\n",
              "      padding: 0 0 0 0;\n",
              "      width: 32px;\n",
              "    }\n",
              "\n",
              "    .colab-df-convert:hover {\n",
              "      background-color: #E2EBFA;\n",
              "      box-shadow: 0px 1px 2px rgba(60, 64, 67, 0.3), 0px 1px 3px 1px rgba(60, 64, 67, 0.15);\n",
              "      fill: #174EA6;\n",
              "    }\n",
              "\n",
              "    [theme=dark] .colab-df-convert {\n",
              "      background-color: #3B4455;\n",
              "      fill: #D2E3FC;\n",
              "    }\n",
              "\n",
              "    [theme=dark] .colab-df-convert:hover {\n",
              "      background-color: #434B5C;\n",
              "      box-shadow: 0px 1px 3px 1px rgba(0, 0, 0, 0.15);\n",
              "      filter: drop-shadow(0px 1px 2px rgba(0, 0, 0, 0.3));\n",
              "      fill: #FFFFFF;\n",
              "    }\n",
              "  </style>\n",
              "\n",
              "      <script>\n",
              "        const buttonEl =\n",
              "          document.querySelector('#df-86dcf1c8-4905-480c-a061-10854851446d button.colab-df-convert');\n",
              "        buttonEl.style.display =\n",
              "          google.colab.kernel.accessAllowed ? 'block' : 'none';\n",
              "\n",
              "        async function convertToInteractive(key) {\n",
              "          const element = document.querySelector('#df-86dcf1c8-4905-480c-a061-10854851446d');\n",
              "          const dataTable =\n",
              "            await google.colab.kernel.invokeFunction('convertToInteractive',\n",
              "                                                     [key], {});\n",
              "          if (!dataTable) return;\n",
              "\n",
              "          const docLinkHtml = 'Like what you see? Visit the ' +\n",
              "            '<a target=\"_blank\" href=https://colab.research.google.com/notebooks/data_table.ipynb>data table notebook</a>'\n",
              "            + ' to learn more about interactive tables.';\n",
              "          element.innerHTML = '';\n",
              "          dataTable['output_type'] = 'display_data';\n",
              "          await google.colab.output.renderOutput(dataTable, element);\n",
              "          const docLink = document.createElement('div');\n",
              "          docLink.innerHTML = docLinkHtml;\n",
              "          element.appendChild(docLink);\n",
              "        }\n",
              "      </script>\n",
              "    </div>\n",
              "  </div>\n",
              "  "
            ]
          },
          "metadata": {},
          "execution_count": 22
        }
      ]
    },
    {
      "cell_type": "code",
      "source": [
        "a=df1.groupby(by='AGENT_ID',as_index=True).sum()['CLAIM_AMOUNT']\n",
        "a"
      ],
      "metadata": {
        "colab": {
          "base_uri": "https://localhost:8080/"
        },
        "id": "43DfCduLeHjk",
        "outputId": "97343ce7-5c4f-4f34-d7a4-91fa44c42190"
      },
      "execution_count": null,
      "outputs": [
        {
          "output_type": "execute_result",
          "data": {
            "text/plain": [
              "AGENT_ID\n",
              "AGENT00001     85500\n",
              "AGENT00002     84000\n",
              "AGENT00003    170300\n",
              "AGENT00004    297600\n",
              "AGENT00005     45000\n",
              "               ...  \n",
              "AGENT01196    274000\n",
              "AGENT01197    156600\n",
              "AGENT01198    196400\n",
              "AGENT01199    164700\n",
              "AGENT01200    100900\n",
              "Name: CLAIM_AMOUNT, Length: 1200, dtype: int64"
            ]
          },
          "metadata": {},
          "execution_count": 23
        }
      ]
    },
    {
      "cell_type": "code",
      "source": [
        "b=df1.groupby(by='AGENT_ID',as_index=True).count()['INSURANCE_TYPE']\n",
        "b"
      ],
      "metadata": {
        "colab": {
          "base_uri": "https://localhost:8080/"
        },
        "id": "IcCkkblzeHhH",
        "outputId": "59b45a70-b9a6-4055-f865-f45b6c7a2368"
      },
      "execution_count": null,
      "outputs": [
        {
          "output_type": "execute_result",
          "data": {
            "text/plain": [
              "AGENT_ID\n",
              "AGENT00001    4\n",
              "AGENT00002    2\n",
              "AGENT00003    6\n",
              "AGENT00004    6\n",
              "AGENT00005    4\n",
              "             ..\n",
              "AGENT01196    4\n",
              "AGENT01197    4\n",
              "AGENT01198    4\n",
              "AGENT01199    5\n",
              "AGENT01200    6\n",
              "Name: INSURANCE_TYPE, Length: 1200, dtype: int64"
            ]
          },
          "metadata": {},
          "execution_count": 24
        }
      ]
    },
    {
      "cell_type": "code",
      "source": [
        "result=list(zip(df1.AGENT_ID.unique(),a,b))"
      ],
      "metadata": {
        "id": "CTVeH7rHjzZw"
      },
      "execution_count": null,
      "outputs": []
    },
    {
      "cell_type": "code",
      "source": [
        "task7result=pd.DataFrame(result,columns=['AGENT_ID','CLAIM_AMOUNT','INSURANCE_TYPE'])"
      ],
      "metadata": {
        "id": "-TiTsMAwjzXE"
      },
      "execution_count": null,
      "outputs": []
    },
    {
      "cell_type": "code",
      "source": [
        "task7result=task7result[task7result.INSURANCE_TYPE>2].sort_values(by='CLAIM_AMOUNT',ascending=False)"
      ],
      "metadata": {
        "id": "IjACQY5DjzUe"
      },
      "execution_count": null,
      "outputs": []
    },
    {
      "cell_type": "code",
      "source": [
        "task7result.head()"
      ],
      "metadata": {
        "id": "K7bjGIFBTfAd",
        "colab": {
          "base_uri": "https://localhost:8080/",
          "height": 206
        },
        "outputId": "73d7e149-a4db-4483-b088-20961e9473e8"
      },
      "execution_count": null,
      "outputs": [
        {
          "output_type": "execute_result",
          "data": {
            "text/plain": [
              "       AGENT_ID  CLAIM_AMOUNT  INSURANCE_TYPE\n",
              "806  AGENT00807        528800               6\n",
              "678  AGENT00679        489000               4\n",
              "770  AGENT00771        422100               5\n",
              "124  AGENT00125        400400               4\n",
              "788  AGENT00789        392900               4"
            ],
            "text/html": [
              "\n",
              "  <div id=\"df-0e564f0f-0fff-4186-b2cb-76784a18ea4e\">\n",
              "    <div class=\"colab-df-container\">\n",
              "      <div>\n",
              "<style scoped>\n",
              "    .dataframe tbody tr th:only-of-type {\n",
              "        vertical-align: middle;\n",
              "    }\n",
              "\n",
              "    .dataframe tbody tr th {\n",
              "        vertical-align: top;\n",
              "    }\n",
              "\n",
              "    .dataframe thead th {\n",
              "        text-align: right;\n",
              "    }\n",
              "</style>\n",
              "<table border=\"1\" class=\"dataframe\">\n",
              "  <thead>\n",
              "    <tr style=\"text-align: right;\">\n",
              "      <th></th>\n",
              "      <th>AGENT_ID</th>\n",
              "      <th>CLAIM_AMOUNT</th>\n",
              "      <th>INSURANCE_TYPE</th>\n",
              "    </tr>\n",
              "  </thead>\n",
              "  <tbody>\n",
              "    <tr>\n",
              "      <th>806</th>\n",
              "      <td>AGENT00807</td>\n",
              "      <td>528800</td>\n",
              "      <td>6</td>\n",
              "    </tr>\n",
              "    <tr>\n",
              "      <th>678</th>\n",
              "      <td>AGENT00679</td>\n",
              "      <td>489000</td>\n",
              "      <td>4</td>\n",
              "    </tr>\n",
              "    <tr>\n",
              "      <th>770</th>\n",
              "      <td>AGENT00771</td>\n",
              "      <td>422100</td>\n",
              "      <td>5</td>\n",
              "    </tr>\n",
              "    <tr>\n",
              "      <th>124</th>\n",
              "      <td>AGENT00125</td>\n",
              "      <td>400400</td>\n",
              "      <td>4</td>\n",
              "    </tr>\n",
              "    <tr>\n",
              "      <th>788</th>\n",
              "      <td>AGENT00789</td>\n",
              "      <td>392900</td>\n",
              "      <td>4</td>\n",
              "    </tr>\n",
              "  </tbody>\n",
              "</table>\n",
              "</div>\n",
              "      <button class=\"colab-df-convert\" onclick=\"convertToInteractive('df-0e564f0f-0fff-4186-b2cb-76784a18ea4e')\"\n",
              "              title=\"Convert this dataframe to an interactive table.\"\n",
              "              style=\"display:none;\">\n",
              "        \n",
              "  <svg xmlns=\"http://www.w3.org/2000/svg\" height=\"24px\"viewBox=\"0 0 24 24\"\n",
              "       width=\"24px\">\n",
              "    <path d=\"M0 0h24v24H0V0z\" fill=\"none\"/>\n",
              "    <path d=\"M18.56 5.44l.94 2.06.94-2.06 2.06-.94-2.06-.94-.94-2.06-.94 2.06-2.06.94zm-11 1L8.5 8.5l.94-2.06 2.06-.94-2.06-.94L8.5 2.5l-.94 2.06-2.06.94zm10 10l.94 2.06.94-2.06 2.06-.94-2.06-.94-.94-2.06-.94 2.06-2.06.94z\"/><path d=\"M17.41 7.96l-1.37-1.37c-.4-.4-.92-.59-1.43-.59-.52 0-1.04.2-1.43.59L10.3 9.45l-7.72 7.72c-.78.78-.78 2.05 0 2.83L4 21.41c.39.39.9.59 1.41.59.51 0 1.02-.2 1.41-.59l7.78-7.78 2.81-2.81c.8-.78.8-2.07 0-2.86zM5.41 20L4 18.59l7.72-7.72 1.47 1.35L5.41 20z\"/>\n",
              "  </svg>\n",
              "      </button>\n",
              "      \n",
              "  <style>\n",
              "    .colab-df-container {\n",
              "      display:flex;\n",
              "      flex-wrap:wrap;\n",
              "      gap: 12px;\n",
              "    }\n",
              "\n",
              "    .colab-df-convert {\n",
              "      background-color: #E8F0FE;\n",
              "      border: none;\n",
              "      border-radius: 50%;\n",
              "      cursor: pointer;\n",
              "      display: none;\n",
              "      fill: #1967D2;\n",
              "      height: 32px;\n",
              "      padding: 0 0 0 0;\n",
              "      width: 32px;\n",
              "    }\n",
              "\n",
              "    .colab-df-convert:hover {\n",
              "      background-color: #E2EBFA;\n",
              "      box-shadow: 0px 1px 2px rgba(60, 64, 67, 0.3), 0px 1px 3px 1px rgba(60, 64, 67, 0.15);\n",
              "      fill: #174EA6;\n",
              "    }\n",
              "\n",
              "    [theme=dark] .colab-df-convert {\n",
              "      background-color: #3B4455;\n",
              "      fill: #D2E3FC;\n",
              "    }\n",
              "\n",
              "    [theme=dark] .colab-df-convert:hover {\n",
              "      background-color: #434B5C;\n",
              "      box-shadow: 0px 1px 3px 1px rgba(0, 0, 0, 0.15);\n",
              "      filter: drop-shadow(0px 1px 2px rgba(0, 0, 0, 0.3));\n",
              "      fill: #FFFFFF;\n",
              "    }\n",
              "  </style>\n",
              "\n",
              "      <script>\n",
              "        const buttonEl =\n",
              "          document.querySelector('#df-0e564f0f-0fff-4186-b2cb-76784a18ea4e button.colab-df-convert');\n",
              "        buttonEl.style.display =\n",
              "          google.colab.kernel.accessAllowed ? 'block' : 'none';\n",
              "\n",
              "        async function convertToInteractive(key) {\n",
              "          const element = document.querySelector('#df-0e564f0f-0fff-4186-b2cb-76784a18ea4e');\n",
              "          const dataTable =\n",
              "            await google.colab.kernel.invokeFunction('convertToInteractive',\n",
              "                                                     [key], {});\n",
              "          if (!dataTable) return;\n",
              "\n",
              "          const docLinkHtml = 'Like what you see? Visit the ' +\n",
              "            '<a target=\"_blank\" href=https://colab.research.google.com/notebooks/data_table.ipynb>data table notebook</a>'\n",
              "            + ' to learn more about interactive tables.';\n",
              "          element.innerHTML = '';\n",
              "          dataTable['output_type'] = 'display_data';\n",
              "          await google.colab.output.renderOutput(dataTable, element);\n",
              "          const docLink = document.createElement('div');\n",
              "          docLink.innerHTML = docLinkHtml;\n",
              "          element.appendChild(docLink);\n",
              "        }\n",
              "      </script>\n",
              "    </div>\n",
              "  </div>\n",
              "  "
            ]
          },
          "metadata": {},
          "execution_count": 28
        }
      ]
    },
    {
      "cell_type": "markdown",
      "source": [
        "# **TASK 8**\n",
        "Complete"
      ],
      "metadata": {
        "id": "9zKFqWzKTNW6"
      }
    },
    {
      "cell_type": "markdown",
      "source": [
        "Let us check if there are any repeat customer claims"
      ],
      "metadata": {
        "id": "ySgF6mGVj3Mu"
      }
    },
    {
      "cell_type": "code",
      "source": [
        "len(df)==len(df.CUSTOMER_ID.unique())"
      ],
      "metadata": {
        "id": "7AWsfN5gTfyM",
        "colab": {
          "base_uri": "https://localhost:8080/"
        },
        "outputId": "48f44f73-e0ee-4594-d3c1-45dd8719639f"
      },
      "execution_count": null,
      "outputs": [
        {
          "output_type": "execute_result",
          "data": {
            "text/plain": [
              "True"
            ]
          },
          "metadata": {},
          "execution_count": 30
        }
      ]
    },
    {
      "cell_type": "code",
      "source": [
        "df.INSURANCE_TYPE.unique()"
      ],
      "metadata": {
        "colab": {
          "base_uri": "https://localhost:8080/"
        },
        "id": "HOxS0tSam7SC",
        "outputId": "53c7b821-9032-4dc3-99d2-0ed3073cd9db"
      },
      "execution_count": null,
      "outputs": [
        {
          "output_type": "execute_result",
          "data": {
            "text/plain": [
              "array(['Health', 'Property', 'Travel', 'Life', 'Motor', 'Mobile'],\n",
              "      dtype=object)"
            ]
          },
          "metadata": {},
          "execution_count": 31
        }
      ]
    },
    {
      "cell_type": "code",
      "source": [
        "mobtrav=0\n",
        "healthprop=0\n",
        "lifemot=0\n",
        "\n",
        "for i in range(len(df)):\n",
        "    if df.INSURANCE_TYPE[i] in ('Mobile','Travel'):\n",
        "        mobtrav+=df.PREMIUM_AMOUNT[i]\n",
        "    elif df.INSURANCE_TYPE[i] in ('Health','Property'):\n",
        "        healthprop+=df.PREMIUM_AMOUNT[i]\n",
        "    else:\n",
        "        lifemot+=df.PREMIUM_AMOUNT[i]\n"
      ],
      "metadata": {
        "id": "ccpjZb2xTfsE"
      },
      "execution_count": null,
      "outputs": []
    },
    {
      "cell_type": "code",
      "source": [
        "perc_change=((mobtrav*1.1 + healthprop*1.07 + lifemot*1.02)*100/df.PREMIUM_AMOUNT.sum()-100)"
      ],
      "metadata": {
        "id": "qdTt55JzleqC"
      },
      "execution_count": null,
      "outputs": []
    },
    {
      "cell_type": "code",
      "source": [
        "print(f'Percent change for premium income per unit time period is {perc_change}')"
      ],
      "metadata": {
        "colab": {
          "base_uri": "https://localhost:8080/"
        },
        "id": "byEdQvYclemj",
        "outputId": "cb46ddb7-50b8-4eef-bcd1-11dbe99ea676"
      },
      "execution_count": null,
      "outputs": [
        {
          "output_type": "stream",
          "name": "stdout",
          "text": [
            "Percent change for premium income per unit time period is 5.828280541567892\n"
          ]
        }
      ]
    },
    {
      "cell_type": "markdown",
      "source": [
        "# **TASK 9**\n",
        "Complete"
      ],
      "metadata": {
        "id": "Jv8oCswlTNT2"
      }
    },
    {
      "cell_type": "code",
      "source": [
        "df.ELIGIBLE_FOR_DISCOUNT=np.where((df.TENURE>60) & (df.EMPLOYMENT_STATUS=='N') & (df.NO_OF_FAMILY_MEMBERS>=4),1,0)"
      ],
      "metadata": {
        "id": "SIfJ9fXxThMa",
        "colab": {
          "base_uri": "https://localhost:8080/"
        },
        "outputId": "222f9876-458a-4e70-a4bf-578ad03860ce"
      },
      "execution_count": null,
      "outputs": [
        {
          "output_type": "stream",
          "name": "stderr",
          "text": [
            "/usr/local/lib/python3.7/dist-packages/ipykernel_launcher.py:1: UserWarning: Pandas doesn't allow columns to be created via a new attribute name - see https://pandas.pydata.org/pandas-docs/stable/indexing.html#attribute-access\n",
            "  \"\"\"Entry point for launching an IPython kernel.\n"
          ]
        }
      ]
    },
    {
      "cell_type": "code",
      "source": [
        "discount_col_mean=df.ELIGIBLE_FOR_DISCOUNT.mean()\n",
        "print(discount_col_mean)"
      ],
      "metadata": {
        "id": "bOiSB6p2ThKR",
        "colab": {
          "base_uri": "https://localhost:8080/"
        },
        "outputId": "55439dba-bee4-4c65-e572-c91468851320"
      },
      "execution_count": null,
      "outputs": [
        {
          "output_type": "stream",
          "name": "stdout",
          "text": [
            "0.0299\n"
          ]
        }
      ]
    },
    {
      "cell_type": "markdown",
      "source": [
        "# **TASK 10**"
      ],
      "metadata": {
        "id": "qs-wfTNbTNQD"
      }
    },
    {
      "cell_type": "code",
      "source": [
        ""
      ],
      "metadata": {
        "id": "WQOe4jCbTh0U"
      },
      "execution_count": null,
      "outputs": []
    },
    {
      "cell_type": "code",
      "source": [
        ""
      ],
      "metadata": {
        "id": "fYok9hNHThyC"
      },
      "execution_count": null,
      "outputs": []
    },
    {
      "cell_type": "code",
      "source": [
        ""
      ],
      "metadata": {
        "id": "9BJMe4O-Thvh"
      },
      "execution_count": null,
      "outputs": []
    },
    {
      "cell_type": "code",
      "source": [
        ""
      ],
      "metadata": {
        "id": "4KY-2YohThtR"
      },
      "execution_count": null,
      "outputs": []
    },
    {
      "cell_type": "code",
      "source": [
        ""
      ],
      "metadata": {
        "id": "RgKiY4AZThqc"
      },
      "execution_count": null,
      "outputs": []
    },
    {
      "cell_type": "markdown",
      "source": [
        "# **TASK 11**"
      ],
      "metadata": {
        "id": "xAMwcH4cTNCT"
      }
    },
    {
      "cell_type": "code",
      "source": [
        "df1=df.groupby(by=['AGENT_ID','AGENT_NAME'],as_index=False).count()[['AGENT_ID','AGENT_NAME','TRANSACTION_ID']]\n",
        "#df1[df1.TRANSACTION_ID<df1.TRANSACTION_ID.quantile(q=0.05)]"
      ],
      "metadata": {
        "id": "TgPAUG5sTigK"
      },
      "execution_count": null,
      "outputs": []
    },
    {
      "cell_type": "code",
      "source": [
        "df_bottom5percentile=df1[df1.TRANSACTION_ID<df1.TRANSACTION_ID.quantile(q=0.05)]\n",
        "print(df_bottom5percentile)"
      ],
      "metadata": {
        "id": "8EeRomNXTieA",
        "colab": {
          "base_uri": "https://localhost:8080/"
        },
        "outputId": "2ad17338-05af-4275-e520-846a46642a83"
      },
      "execution_count": null,
      "outputs": [
        {
          "output_type": "stream",
          "name": "stdout",
          "text": [
            "        AGENT_ID           AGENT_NAME  TRANSACTION_ID\n",
            "1     AGENT00002        Angelo Borjon               3\n",
            "13    AGENT00014          Larry Dryer               3\n",
            "105   AGENT00106        Alice Burcham               3\n",
            "119   AGENT00120         Janet Scales               3\n",
            "155   AGENT00156            Mary Lane               2\n",
            "251   AGENT00252          Harold Bonn               1\n",
            "252   AGENT00253     Michael Cauffman               3\n",
            "299   AGENT00300            Sean Tate               3\n",
            "342   AGENT00343        Heather Piper               3\n",
            "375   AGENT00376       David Donnelly               3\n",
            "453   AGENT00454         Roscoe Ricci               3\n",
            "461   AGENT00462      Charles Tabares               3\n",
            "468   AGENT00469       Stephen Fanter               3\n",
            "535   AGENT00536     Florence Ashlock               2\n",
            "602   AGENT00603        Eleanor Timko               3\n",
            "620   AGENT00621       Richard Murphy               2\n",
            "627   AGENT00628      Marsha Kingsley               2\n",
            "644   AGENT00645        Anthony Joshi               3\n",
            "655   AGENT00656     Matthew Harrison               3\n",
            "772   AGENT00773  David Brandenberger               3\n",
            "789   AGENT00790          Clay Harmon               2\n",
            "803   AGENT00804          Kenna Olsen               3\n",
            "862   AGENT00863          Sarah Brown               3\n",
            "886   AGENT00887         Ross Herndon               3\n",
            "925   AGENT00926        Annie Bobbitt               3\n",
            "933   AGENT00934          Roy Baldwin               3\n",
            "957   AGENT00958          Luz Mcnally               3\n",
            "1036  AGENT01037        Mary Franklin               3\n",
            "1076  AGENT01077        Sandra Tucker               2\n",
            "1128  AGENT01129     Christopher Amin               3\n",
            "1153  AGENT01154       Nichole Wright               2\n",
            "1160  AGENT01161      Charlotte Payne               1\n",
            "1190  AGENT01191           Amy Helton               3\n"
          ]
        }
      ]
    },
    {
      "cell_type": "markdown",
      "source": [
        "# **TASK 12**"
      ],
      "metadata": {
        "id": "dun6IF5wTM0b"
      }
    },
    {
      "cell_type": "code",
      "source": [
        "df1=df.groupby(by=['AGENT_ID','AGENT_NAME'],as_index=False).sum()"
      ],
      "metadata": {
        "id": "ZYokfp8jEB9z"
      },
      "execution_count": null,
      "outputs": []
    },
    {
      "cell_type": "code",
      "source": [
        "mapper=dict(zip(list(df1.AGENT_ID),['Sus' if i>15000 else 'Not sus' for i in list(df1.CLAIM_AMOUNT)]))"
      ],
      "metadata": {
        "id": "aBE2Qc_TSoAY"
      },
      "execution_count": null,
      "outputs": []
    },
    {
      "cell_type": "code",
      "source": [
        "df['SUS_AGENT']=df.AGENT_ID.map(mapper)"
      ],
      "metadata": {
        "id": "sjty91tIQF2-"
      },
      "execution_count": null,
      "outputs": []
    },
    {
      "cell_type": "code",
      "source": [
        "df['Sus_final']=np.where((df.SUS_AGENT=='Sus') & (df.RISK_SEGMENTATION=='H') & (df.CLAIM_STATUS=='A') & (df.INCIDENT_SEVERITY=='Major Loss'),1,0)"
      ],
      "metadata": {
        "id": "w-RhDLnGYN8e"
      },
      "execution_count": null,
      "outputs": []
    },
    {
      "cell_type": "code",
      "source": [
        "df.Sus_final.mean()"
      ],
      "metadata": {
        "id": "kmQPV5qXECFs",
        "colab": {
          "base_uri": "https://localhost:8080/"
        },
        "outputId": "63ddd93f-0d0d-41cf-e34c-c125a4d93301"
      },
      "execution_count": null,
      "outputs": [
        {
          "output_type": "execute_result",
          "data": {
            "text/plain": [
              "0.0437"
            ]
          },
          "metadata": {},
          "execution_count": 43
        }
      ]
    },
    {
      "cell_type": "code",
      "source": [
        ""
      ],
      "metadata": {
        "id": "roPeN1hmECI3"
      },
      "execution_count": null,
      "outputs": []
    },
    {
      "cell_type": "code",
      "source": [
        ""
      ],
      "metadata": {
        "id": "ZgH7MxCAmqb8"
      },
      "execution_count": null,
      "outputs": []
    },
    {
      "cell_type": "code",
      "source": [
        ""
      ],
      "metadata": {
        "id": "TJCIfXzVmqW2"
      },
      "execution_count": null,
      "outputs": []
    }
  ]
}